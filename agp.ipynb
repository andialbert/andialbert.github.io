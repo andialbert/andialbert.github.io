{
 "cells": [
  {
   "cell_type": "code",
   "execution_count": 12,
   "metadata": {
    "slideshow": {
     "slide_type": "skip"
    }
   },
   "outputs": [
    {
     "data": {
      "text/html": [
       "<script>\n",
       "code_show=true; \n",
       "function code_toggle() {\n",
       " if (code_show){\n",
       " $('div.input').hide();\n",
       " $('div.output_stderr').hide();\n",
       " } else {\n",
       " $('div.input').show();\n",
       " $('div.output_stderr').show();\n",
       " }\n",
       " code_show = !code_show\n",
       "} \n",
       "$( document ).ready(code_toggle);\n",
       "</script>\n",
       "<form action='javascript:code_toggle()'><input STYLE='color: #4286f4' \n",
       "type='submit' value='Click here to toggle on/off the raw code.'></form>"
      ],
      "text/plain": [
       "<IPython.core.display.HTML object>"
      ]
     },
     "execution_count": 12,
     "metadata": {},
     "output_type": "execute_result"
    }
   ],
   "source": [
    "\t\tfrom IPython.display import HTML\n",
    "\n",
    "\t\tHTML('''<script>\n",
    "\t\tcode_show=true; \n",
    "\t\tfunction code_toggle() {\n",
    "\t\t if (code_show){\n",
    "\t\t $('div.input').hide();\n",
    "\t\t $('div.output_stderr').hide();\n",
    "\t\t } else {\n",
    "\t\t $('div.input').show();\n",
    "\t\t $('div.output_stderr').show();\n",
    "\t\t }\n",
    "\t\t code_show = !code_show\n",
    "\t\t} \n",
    "\t\t$( document ).ready(code_toggle);\n",
    "\t\t</script>\n",
    "\t\t<form action='javascript:code_toggle()'><input STYLE='color: #4286f4' \n",
    "\t\ttype='submit' value='Click here to toggle on/off the raw code.'></form>''')"
   ]
  },
  {
   "cell_type": "markdown",
   "metadata": {
    "slideshow": {
     "slide_type": "slide"
    }
   },
   "source": [
    "# Atomok gerjesztési potenciálja"
   ]
  },
  {
   "cell_type": "markdown",
   "metadata": {
    "slideshow": {
     "slide_type": "slide"
    }
   },
   "source": [
    "# Tartalomjegyzék"
   ]
  },
  {
   "cell_type": "markdown",
   "metadata": {
    "slideshow": {
     "slide_type": "fragment"
    }
   },
   "source": [
    "- A mérés rövid leírása\n",
    "- A Frank-Hertz cső\n",
    "- Mérési eredmények és kiértékelés\n",
    "- Diszkusszió"
   ]
  },
  {
   "cell_type": "markdown",
   "metadata": {
    "slideshow": {
     "slide_type": "slide"
    }
   },
   "source": [
    "## A mérés rövid leírása"
   ]
  },
  {
   "cell_type": "markdown",
   "metadata": {
    "slideshow": {
     "slide_type": "subslide"
    }
   },
   "source": [
    "\n",
    "A mérés során a Hg és Ne első gerjesztési potneciálját kell meghatározni a Frank-Hertz kísérlet alapján.\n",
    "Mivel a mérést nem tudtam elvégezni készen megkatam az adatokat Hg és Ne gázra is."
   ]
  },
  {
   "cell_type": "markdown",
   "metadata": {
    "slideshow": {
     "slide_type": "slide"
    }
   },
   "source": [
    "## A Frank-Hertz cső\n"
   ]
  },
  {
   "cell_type": "markdown",
   "metadata": {
    "slideshow": {
     "slide_type": "subslide"
    }
   },
   "source": [
    "A cső tulajdonképpen egy olyan trióda, amely egy termikusan fűtött katódból, egy anódból és rácsszerű elektródákból áll.\n",
    "\n",
    "Az üveg cső belsejében alacsony nyomású gőz található, az egész pedig egy szabályozható hőmérsékletű kályhával van körülvéve. A katódban a fix fűtési feszültséggel elektronok keletkeznek, ezek számát az U1 feszültséggel szabályozhatjuk, majd a két rácsszerű elektróda között egy U2 gyorsítófeszültséggel növeljük energiájukat (eU2), a gőzatomokkal töltött téren keresztül. Az elektronok az Anód és a második fém rács között negatív ellenfeszültségbe ütköznek, amivel elérhető, hogy csak azok az elektronok vegyenek részt az áram folyásában, amelyek energiája nagyobb volt, mint eU3."
   ]
  },
  {
   "cell_type": "markdown",
   "metadata": {
    "slideshow": {
     "slide_type": "slide"
    }
   },
   "source": [
    "## Mérési eredmények és kiértékelés\n",
    "\n",
    "#### (ebből csak egy kódrészletet mutatok meg)"
   ]
  },
  {
   "cell_type": "code",
   "execution_count": 3,
   "metadata": {
    "slideshow": {
     "slide_type": "skip"
    }
   },
   "outputs": [
    {
     "name": "stdout",
     "output_type": "stream",
     "text": [
      "Populating the interactive namespace from numpy and matplotlib\n"
     ]
    },
    {
     "name": "stderr",
     "output_type": "stream",
     "text": [
      "/home/andi/anaconda3/lib/python3.7/site-packages/IPython/core/magics/pylab.py:160: UserWarning: pylab import has clobbered these variables: ['f']\n",
      "`%matplotlib` prevents importing * from pylab and numpy\n",
      "  \"\\n`%matplotlib` prevents importing * from pylab and numpy\"\n"
     ]
    }
   ],
   "source": [
    "%pylab inline\n",
    "\n",
    "from scipy import signal\n",
    "from scipy.signal import argrelextrema,find_peaks\n",
    "from scipy.optimize import curve_fit\n",
    "from scipy.interpolate import interp1d"
   ]
  },
  {
   "cell_type": "code",
   "execution_count": 8,
   "metadata": {
    "slideshow": {
     "slide_type": "subslide"
    }
   },
   "outputs": [],
   "source": [
    "with open('14.29_Hg.txt') as f:\n",
    "    U2,I = [],[]\n",
    "    for line in f: \n",
    "        if line[0]!='#':\n",
    "            U2.append( float(line.split()[0]) )\n",
    "            I.append( float(line.split()[1]) )\n",
    "            \n",
    "def get_max(I,U2): #maximumok es minimuok megkeresesere volt szuksegem\n",
    "    f = interp1d(U2, I, kind='cubic')\n",
    "    U2new = arange(U2[0],U2[-1],0.01)\n",
    "    peaks = argrelextrema(f(U2new), np.greater,order=200) \n",
    "    return U2new[peaks]\n",
    "\n",
    "def get_min(I,U2):\n",
    "    f = interp1d(U2, I, kind='cubic')\n",
    "    U2new = arange(U2[0],U2[-1],0.01)\n",
    "    peaks = argrelextrema(f(U2new), np.less,order=200) \n",
    "    return U2new[peaks]"
   ]
  },
  {
   "cell_type": "code",
   "execution_count": 11,
   "metadata": {
    "slideshow": {
     "slide_type": "subslide"
    }
   },
   "outputs": [
    {
     "data": {
      "text/plain": [
       "Text(0.5, 1.0, 'Measured points')"
      ]
     },
     "execution_count": 11,
     "metadata": {},
     "output_type": "execute_result"
    },
    {
     "data": {
      "image/png": "[encoded data removed]",
      "text/plain": [
       "<Figure size 432x288 with 1 Axes>"
      ]
     },
     "metadata": {
      "needs_background": "light"
     },
     "output_type": "display_data"
    }
   ],
   "source": [
    "#igy neznek ki a mert adatok\n",
    "\n",
    "plot(U2,I,'.') \n",
    "grid(True)\n",
    "xlabel('U2 [V]')\n",
    "ylabel('I [nA]')\n",
    "title('Measured points')"
   ]
  },
  {
   "cell_type": "markdown",
   "metadata": {
    "slideshow": {
     "slide_type": "slide"
    }
   },
   "source": [
    "## Diszkusszió"
   ]
  },
  {
   "cell_type": "markdown",
   "metadata": {
    "slideshow": {
     "slide_type": "subslide"
    }
   },
   "source": [
    "Mind a Hg, mind pedig a Ne esetében olyan értékeket kaptunk a gerjesztési energiákra, amelyek közel vannak a tényleges értékekhez (rendre 4.9 eV és 16.8 eV). A hullámhosszra kapott eredmények is közel állnak az irodalmi értékekhez, például \\textit{Hg} esetében ez $\\lambda=254\\ nm$ ami kicsivel nagyobb mint a fennebb számolt."
   ]
  }
 ],
 "metadata": {
  "celltoolbar": "Slideshow",
  "kernelspec": {
   "display_name": "Python 3",
   "language": "python",
   "name": "python3"
  },
  "language_info": {
   "codemirror_mode": {
    "name": "ipython",
    "version": 3
   },
   "file_extension": ".py",
   "mimetype": "text/x-python",
   "name": "python",
   "nbconvert_exporter": "python",
   "pygments_lexer": "ipython3",
   "version": "3.7.6"
  }
 },
 "nbformat": 4,
 "nbformat_minor": 4
}
